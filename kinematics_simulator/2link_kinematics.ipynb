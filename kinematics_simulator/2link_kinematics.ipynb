{
 "cells": [
  {
   "cell_type": "code",
   "execution_count": 24,
   "metadata": {},
   "outputs": [],
   "source": [
    "%matplotlib inline\n",
    "import matplotlib.pyplot as plt\n",
    "import numpy as np"
   ]
  },
  {
   "cell_type": "code",
   "execution_count": 25,
   "metadata": {},
   "outputs": [],
   "source": [
    "# end effecter\n",
    "rx = 67\n",
    "ry = 113\n",
    "# link length\n",
    "L1  = 85\n",
    "L2  = 85"
   ]
  },
  {
   "cell_type": "code",
   "execution_count": 26,
   "metadata": {},
   "outputs": [],
   "source": [
    "def forward_kinematics(th1, th2):\n",
    "    x = L1 * np.cos(th1) + L2 * np.cos(th1 + th2)\n",
    "    y = L1 * np.sin(th1) + L2 * np.sin(th1 + th2)\n",
    "    return x, y"
   ]
  },
  {
   "cell_type": "code",
   "execution_count": 27,
   "metadata": {},
   "outputs": [],
   "source": [
    "def inverse_kinematics1(x, y):\n",
    "    th1 = np.arccos((x**2 + y**2 + L1**2 - L2**2) / (2 * L1 * np.sqrt(x**2 + y**2))) + np.arctan2(y, x)\n",
    "    th2 = np.arctan2(y - L1 * np.sin(th1), x - L1 * np.cos(th1)) - th1\n",
    "    return th1, th2"
   ]
  },
  {
   "cell_type": "code",
   "execution_count": 28,
   "metadata": {},
   "outputs": [],
   "source": [
    "def inverse_kinematics2(x, y):\n",
    "    th1 = -np.arccos((x**2 + y**2 + L1**2 - L2**2) / (2 * L1 * np.sqrt(x**2 + y**2))) + np.arctan2(y, x)\n",
    "    th2 = np.arctan2(y - L1 * np.sin(th1), x - L1 * np.cos(th1)) - th1\n",
    "    return th1, th2"
   ]
  },
  {
   "cell_type": "code",
   "execution_count": 29,
   "metadata": {},
   "outputs": [],
   "source": [
    "def inverse_kinematics3(x, y):\n",
    "    OP    = np.sqrt(rx**2 + ry**2)\n",
    "    beta  = np.arccos((L1**2 + OP**2 - L2**2) / (2 * L1 * OP))\n",
    "    gamma = np.arctan2(ry, rx)\n",
    "    th1 = gamma - beta\n",
    "    # th1 = np.arccos(x / L3) - beta\n",
    "    alpha = np.arccos((L1**2 + L2**2 - OP**2) / (2 * L1 * L2))\n",
    "    th2 = np.pi - alpha\n",
    "    return th1, th2"
   ]
  },
  {
   "cell_type": "code",
   "execution_count": 30,
   "metadata": {},
   "outputs": [
    {
     "name": "stdout",
     "output_type": "stream",
     "text": [
      "th  = 1.7232120994140883 -1.3752267764779984\n",
      "deg =  98.7327805023053 -78.79469016557034\n",
      "r   =  67.0 113.0\n"
     ]
    },
    {
     "data": {
      "text/plain": [
       "[<matplotlib.lines.Line2D at 0xfa6340>]"
      ]
     },
     "execution_count": 30,
     "metadata": {},
     "output_type": "execute_result"
    },
    {
     "data": {
      "image/png": "[encoded data removed]",
      "text/plain": [
       "<Figure size 432x288 with 1 Axes>"
      ]
     },
     "metadata": {
      "needs_background": "light"
     },
     "output_type": "display_data"
    }
   ],
   "source": [
    "th1, th2 = inverse_kinematics1(rx, ry)\n",
    "print(\"th  =\", th1, th2)\n",
    "print(\"deg = \", np.degrees(th1), np.degrees(th2))\n",
    "px, py = forward_kinematics(th1, th2)\n",
    "print(\"r   = \", px, py)\n",
    "x = np.array([0, L1 * np.cos(th1), px])\n",
    "y = np.array([0, L1 * np.sin(th1), py])\n",
    "plt.grid(True)\n",
    "plt.plot(x, y, marker=\"o\")"
   ]
  },
  {
   "cell_type": "code",
   "execution_count": 31,
   "metadata": {},
   "outputs": [
    {
     "name": "stdout",
     "output_type": "stream",
     "text": [
      "th  = 0.34798532293608986 1.3752267764779984\n",
      "deg =  19.938090336734952 78.79469016557034\n",
      "r   =  67.0 113.0\n"
     ]
    },
    {
     "data": {
      "text/plain": [
       "[<matplotlib.lines.Line2D at 0x115a4520>]"
      ]
     },
     "execution_count": 31,
     "metadata": {},
     "output_type": "execute_result"
    },
    {
     "data": {
      "image/png": "[encoded data removed]",
      "text/plain": [
       "<Figure size 432x288 with 1 Axes>"
      ]
     },
     "metadata": {
      "needs_background": "light"
     },
     "output_type": "display_data"
    }
   ],
   "source": [
    "th1, th2 = inverse_kinematics2(rx, ry)\n",
    "print(\"th  =\", th1, th2)\n",
    "print(\"deg = \", np.degrees(th1), np.degrees(th2))\n",
    "px, py = forward_kinematics(th1, th2)\n",
    "print(\"r   = \", px, py)\n",
    "x = np.array([0, L1 * np.cos(th1), px])\n",
    "y = np.array([0, L1 * np.sin(th1), py])\n",
    "plt.grid(True)\n",
    "plt.plot(x, y, marker=\"o\")"
   ]
  },
  {
   "cell_type": "code",
   "execution_count": 32,
   "metadata": {},
   "outputs": [
    {
     "name": "stdout",
     "output_type": "stream",
     "text": [
      "th  = 0.34798532293608986 1.3752267764779984\n",
      "deg =  19.938090336734952 78.79469016557034\n",
      "r   =  67.0 113.0\n"
     ]
    },
    {
     "data": {
      "text/plain": [
       "[<matplotlib.lines.Line2D at 0x5d4d78>]"
      ]
     },
     "execution_count": 32,
     "metadata": {},
     "output_type": "execute_result"
    },
    {
     "data": {
      "image/png": "[encoded data removed]",
      "text/plain": [
       "<Figure size 432x288 with 1 Axes>"
      ]
     },
     "metadata": {
      "needs_background": "light"
     },
     "output_type": "display_data"
    }
   ],
   "source": [
    "th1, th2 = inverse_kinematics3(rx, ry)\n",
    "print(\"th  =\", th1, th2)\n",
    "print(\"deg = \", np.degrees(th1), np.degrees(th2))\n",
    "px, py = forward_kinematics(th1, th2)\n",
    "print(\"r   = \", px, py)\n",
    "x = np.array([0, L1 * np.cos(th1), px])\n",
    "y = np.array([0, L1 * np.sin(th1), py])\n",
    "plt.grid(True)\n",
    "plt.plot(x, y, marker=\"o\")"
   ]
  },
  {
   "cell_type": "code",
   "execution_count": null,
   "metadata": {},
   "outputs": [],
   "source": []
  }
 ],
 "metadata": {
  "kernelspec": {
   "display_name": "Python 3",
   "language": "python",
   "name": "python3"
  },
  "language_info": {
   "codemirror_mode": {
    "name": "ipython",
    "version": 3
   },
   "file_extension": ".py",
   "mimetype": "text/x-python",
   "name": "python",
   "nbconvert_exporter": "python",
   "pygments_lexer": "ipython3",
   "version": "3.8.3"
  }
 },
 "nbformat": 4,
 "nbformat_minor": 4
}
